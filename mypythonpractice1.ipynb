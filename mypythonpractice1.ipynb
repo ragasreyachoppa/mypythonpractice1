{
 "cells": [
  {
   "cell_type": "code",
   "execution_count": 1,
   "id": "334d4e8e",
   "metadata": {},
   "outputs": [],
   "source": [
    "# we use class keyword to create user defined objects\n",
    "# class = it is a blue print that defines the nature of a future object\n",
    "# for class we can construct an instance of the object and an instance is a specific object created from a particular class "
   ]
  },
  {
   "cell_type": "code",
   "execution_count": 2,
   "id": "1ecab239",
   "metadata": {},
   "outputs": [],
   "source": [
    "class SampleWord():\n",
    "    pass             # creating simple class"
   ]
  },
  {
   "cell_type": "code",
   "execution_count": 4,
   "id": "fdfba7a0",
   "metadata": {},
   "outputs": [],
   "source": [
    "my_sample=SampleWord()    # creating instances"
   ]
  },
  {
   "cell_type": "code",
   "execution_count": 5,
   "id": "114ff51a",
   "metadata": {},
   "outputs": [
    {
     "data": {
      "text/plain": [
       "__main__.SampleWord"
      ]
     },
     "execution_count": 5,
     "metadata": {},
     "output_type": "execute_result"
    }
   ],
   "source": [
    "type(my_sample)"
   ]
  },
  {
   "cell_type": "code",
   "execution_count": 6,
   "id": "40ecdf66",
   "metadata": {},
   "outputs": [],
   "source": [
    "# to create our own user defined objects we use object oriented programming"
   ]
  },
  {
   "cell_type": "code",
   "execution_count": 8,
   "id": "e5fd7108",
   "metadata": {},
   "outputs": [],
   "source": [
    "# creating attributes   \n",
    "# attribues = characteristics of an object\n",
    "# method = it is an operation we can perform with the object\n",
    "\n",
    "class Dog():\n",
    "    def __init__(self,breed): \n",
    "        \n",
    "        # attributes\n",
    "        # we take in the argument\n",
    "        # assign it using self.attribute_name\n",
    "        \n",
    "        self.breed=breed       # init is a special method which is going to be called upon whenever you create an instance of the class and self keyword which connects this method to the instance of the class and it allows us to refer to itself , and then we pass in any attributes that we want the user to defin"
   ]
  },
  {
   "cell_type": "code",
   "execution_count": 9,
   "id": "f4d8224b",
   "metadata": {},
   "outputs": [
    {
     "ename": "TypeError",
     "evalue": "__init__() missing 1 required positional argument: 'breed'",
     "output_type": "error",
     "traceback": [
      "\u001b[1;31m---------------------------------------------------------------------------\u001b[0m",
      "\u001b[1;31mTypeError\u001b[0m                                 Traceback (most recent call last)",
      "Input \u001b[1;32mIn [9]\u001b[0m, in \u001b[0;36m<cell line: 1>\u001b[1;34m()\u001b[0m\n\u001b[1;32m----> 1\u001b[0m my_dog\u001b[38;5;241m=\u001b[39m\u001b[43mDog\u001b[49m\u001b[43m(\u001b[49m\u001b[43m)\u001b[49m\n",
      "\u001b[1;31mTypeError\u001b[0m: __init__() missing 1 required positional argument: 'breed'"
     ]
    }
   ],
   "source": [
    "my_dog=Dog()"
   ]
  },
  {
   "cell_type": "code",
   "execution_count": 10,
   "id": "1f4a077b",
   "metadata": {},
   "outputs": [],
   "source": [
    "my_dog=Dog(breed='lab')"
   ]
  },
  {
   "cell_type": "code",
   "execution_count": 11,
   "id": "3eda473a",
   "metadata": {},
   "outputs": [
    {
     "data": {
      "text/plain": [
       "__main__.Dog"
      ]
     },
     "execution_count": 11,
     "metadata": {},
     "output_type": "execute_result"
    }
   ],
   "source": [
    "type(my_dog)"
   ]
  },
  {
   "cell_type": "code",
   "execution_count": 12,
   "id": "0d7658bc",
   "metadata": {},
   "outputs": [
    {
     "data": {
      "text/plain": [
       "'lab'"
      ]
     },
     "execution_count": 12,
     "metadata": {},
     "output_type": "execute_result"
    }
   ],
   "source": [
    "my_dog.breed"
   ]
  },
  {
   "cell_type": "code",
   "execution_count": 13,
   "id": "05b5c2ea",
   "metadata": {},
   "outputs": [],
   "source": [
    "class Dog():\n",
    "    def __init__(self,breed,name,spots):\n",
    "        self.breed=breed\n",
    "        self.name=name\n",
    "        # expect the boolean true / false\n",
    "        self.spots=spots\n",
    "        "
   ]
  },
  {
   "cell_type": "code",
   "execution_count": 14,
   "id": "de33a258",
   "metadata": {},
   "outputs": [],
   "source": [
    "my_dog = Dog(breed='lab',name='kittu',spots=False)"
   ]
  },
  {
   "cell_type": "code",
   "execution_count": 15,
   "id": "cc716eb2",
   "metadata": {},
   "outputs": [
    {
     "data": {
      "text/plain": [
       "__main__.Dog"
      ]
     },
     "execution_count": 15,
     "metadata": {},
     "output_type": "execute_result"
    }
   ],
   "source": [
    "type(my_dog)"
   ]
  },
  {
   "cell_type": "code",
   "execution_count": 16,
   "id": "ee4ec4a2",
   "metadata": {},
   "outputs": [
    {
     "data": {
      "text/plain": [
       "'lab'"
      ]
     },
     "execution_count": 16,
     "metadata": {},
     "output_type": "execute_result"
    }
   ],
   "source": [
    "my_dog.breed"
   ]
  },
  {
   "cell_type": "code",
   "execution_count": 17,
   "id": "669d9a51",
   "metadata": {},
   "outputs": [
    {
     "data": {
      "text/plain": [
       "'kittu'"
      ]
     },
     "execution_count": 17,
     "metadata": {},
     "output_type": "execute_result"
    }
   ],
   "source": [
    "my_dog.name"
   ]
  },
  {
   "cell_type": "code",
   "execution_count": 18,
   "id": "e1a79b13",
   "metadata": {},
   "outputs": [
    {
     "data": {
      "text/plain": [
       "False"
      ]
     },
     "execution_count": 18,
     "metadata": {},
     "output_type": "execute_result"
    }
   ],
   "source": [
    "my_dog.spots"
   ]
  },
  {
   "cell_type": "code",
   "execution_count": 31,
   "id": "92035547",
   "metadata": {},
   "outputs": [],
   "source": [
    "class Dog():\n",
    "    \n",
    "    # CLASS OBJECT ATTRIBUTES ARE SAME FOR ANY INSTANCE OF A CLASS \n",
    "    # CLASS OBJECT ATTRIBUTES ARE CREATED BELOW THE CLASS AND IT IS NOT DEFINIED IN THE ATTRIBUTES SECTION \n",
    "    # EVEN WE ARE NOT CREATED IT IN THE ATTRIBUTE SECTION BY USING THE SELF METHOD ,, IT IS ALWAYS AVAILABLE TO US IN THE ATTRIBUTE SECTION\n",
    "    \n",
    "    \n",
    "    species='mammal'    # this is the class object attribute\n",
    "    def __init__(self,breed,name,spots):\n",
    "        self.breed=breed\n",
    "        self.name=name\n",
    "        self.spots=spots"
   ]
  },
  {
   "cell_type": "code",
   "execution_count": 32,
   "id": "460c8308",
   "metadata": {},
   "outputs": [],
   "source": [
    "my_dog=Dog(breed='lab',name='kittu',spots=False)"
   ]
  },
  {
   "cell_type": "code",
   "execution_count": 33,
   "id": "1ef422a6",
   "metadata": {},
   "outputs": [
    {
     "data": {
      "text/plain": [
       "__main__.Dog"
      ]
     },
     "execution_count": 33,
     "metadata": {},
     "output_type": "execute_result"
    }
   ],
   "source": [
    "type(my_dog)"
   ]
  },
  {
   "cell_type": "code",
   "execution_count": 34,
   "id": "86f2480b",
   "metadata": {},
   "outputs": [
    {
     "data": {
      "text/plain": [
       "'lab'"
      ]
     },
     "execution_count": 34,
     "metadata": {},
     "output_type": "execute_result"
    }
   ],
   "source": [
    "my_dog.breed"
   ]
  },
  {
   "cell_type": "code",
   "execution_count": 35,
   "id": "6507da80",
   "metadata": {},
   "outputs": [
    {
     "data": {
      "text/plain": [
       "'kittu'"
      ]
     },
     "execution_count": 35,
     "metadata": {},
     "output_type": "execute_result"
    }
   ],
   "source": [
    "my_dog.name"
   ]
  },
  {
   "cell_type": "code",
   "execution_count": 36,
   "id": "60c65f2a",
   "metadata": {},
   "outputs": [
    {
     "data": {
      "text/plain": [
       "False"
      ]
     },
     "execution_count": 36,
     "metadata": {},
     "output_type": "execute_result"
    }
   ],
   "source": [
    "my_dog.spots"
   ]
  },
  {
   "cell_type": "code",
   "execution_count": 37,
   "id": "fac6f018",
   "metadata": {},
   "outputs": [
    {
     "data": {
      "text/plain": [
       "'mammal'"
      ]
     },
     "execution_count": 37,
     "metadata": {},
     "output_type": "execute_result"
    }
   ],
   "source": [
    "my_dog.species"
   ]
  },
  {
   "cell_type": "code",
   "execution_count": 38,
   "id": "ac454033",
   "metadata": {},
   "outputs": [],
   "source": [
    "# METHODS = METHODS ARE ESSENTIALLY FUNCTIONS DEFINED INSIDE THE BODY OF THE CLASS , AND THEY ARE USED TO PERFORM OPERATIONS THAT SOMETIMES UTILIZE THE ACTUAL ATTRIBUTES OF THE OBJECT WE CREATED"
   ]
  },
  {
   "cell_type": "code",
   "execution_count": 41,
   "id": "880bdd8d",
   "metadata": {},
   "outputs": [],
   "source": [
    "# WE CAN SAY METHODS AS FUNCTIONS , ACTING ON AN OBJECT THAT TAKE THE OBJECT ITSELF INTO ACCOUNT THROUGH THE USE OF THE SELF ARGUMENT OR SELF KEYWORD"
   ]
  },
  {
   "cell_type": "code",
   "execution_count": 49,
   "id": "0be4db9f",
   "metadata": {},
   "outputs": [],
   "source": [
    "class Dog():\n",
    "    def __init__(self,name,breed):\n",
    "        self.name=name\n",
    "        self.breed=breed\n",
    "    # OPERATIONS/ACTION = METHODS    \n",
    "    def bark(self):\n",
    "        print('WOOF!')"
   ]
  },
  {
   "cell_type": "code",
   "execution_count": 50,
   "id": "8ebbc8e0",
   "metadata": {},
   "outputs": [],
   "source": [
    "my_dog=Dog(name='teddy',breed='lab')"
   ]
  },
  {
   "cell_type": "code",
   "execution_count": 51,
   "id": "48d4de32",
   "metadata": {},
   "outputs": [
    {
     "data": {
      "text/plain": [
       "'teddy'"
      ]
     },
     "execution_count": 51,
     "metadata": {},
     "output_type": "execute_result"
    }
   ],
   "source": [
    "my_dog.name"
   ]
  },
  {
   "cell_type": "code",
   "execution_count": 52,
   "id": "56d82cce",
   "metadata": {},
   "outputs": [
    {
     "data": {
      "text/plain": [
       "'lab'"
      ]
     },
     "execution_count": 52,
     "metadata": {},
     "output_type": "execute_result"
    }
   ],
   "source": [
    "my_dog.breed"
   ]
  },
  {
   "cell_type": "code",
   "execution_count": 54,
   "id": "a3e2ca0b",
   "metadata": {},
   "outputs": [
    {
     "name": "stdout",
     "output_type": "stream",
     "text": [
      "WOOF!\n"
     ]
    }
   ],
   "source": [
    "my_dog.bark()    # for methods we use open & close paranthesis"
   ]
  },
  {
   "cell_type": "code",
   "execution_count": 60,
   "id": "2e4bc822",
   "metadata": {},
   "outputs": [],
   "source": [
    "class Dog():\n",
    "    def __init__(self,name,breed):\n",
    "        self.name=name\n",
    "        self.breed=breed\n",
    "\n",
    "    def bark(self):\n",
    "        print('WOOF! my name is {}'.format(name))"
   ]
  },
  {
   "cell_type": "code",
   "execution_count": 61,
   "id": "320a81fd",
   "metadata": {},
   "outputs": [
    {
     "name": "stdout",
     "output_type": "stream",
     "text": [
      "WOOF!\n"
     ]
    }
   ],
   "source": [
    "my_dog.bark()"
   ]
  },
  {
   "cell_type": "code",
   "execution_count": 1,
   "id": "7553c1cc",
   "metadata": {},
   "outputs": [],
   "source": [
    "class Dog():\n",
    "    def __init__(self,name,breed):\n",
    "        self.name=name\n",
    "        self.breed=breed\n",
    "\n",
    "    def bark(self):\n",
    "        print('WOOF! my name is {}'.format(self.name))"
   ]
  },
  {
   "cell_type": "code",
   "execution_count": 2,
   "id": "08b88004",
   "metadata": {},
   "outputs": [],
   "source": [
    "my_dog=Dog(name='frankie',breed='lab')"
   ]
  },
  {
   "cell_type": "code",
   "execution_count": 3,
   "id": "0eb1d150",
   "metadata": {},
   "outputs": [
    {
     "data": {
      "text/plain": [
       "'frankie'"
      ]
     },
     "execution_count": 3,
     "metadata": {},
     "output_type": "execute_result"
    }
   ],
   "source": [
    "my_dog.name"
   ]
  },
  {
   "cell_type": "code",
   "execution_count": 4,
   "id": "283dba0c",
   "metadata": {},
   "outputs": [
    {
     "data": {
      "text/plain": [
       "'lab'"
      ]
     },
     "execution_count": 4,
     "metadata": {},
     "output_type": "execute_result"
    }
   ],
   "source": [
    "my_dog.breed"
   ]
  },
  {
   "cell_type": "code",
   "execution_count": 5,
   "id": "4bb96b17",
   "metadata": {},
   "outputs": [
    {
     "name": "stdout",
     "output_type": "stream",
     "text": [
      "WOOF! my name is frankie\n"
     ]
    }
   ],
   "source": [
    "my_dog.bark()"
   ]
  },
  {
   "cell_type": "code",
   "execution_count": 11,
   "id": "265bed8e",
   "metadata": {},
   "outputs": [],
   "source": [
    "class Dog():\n",
    "    def __init__(self,name,breed):\n",
    "        self.name=name\n",
    "        self.breed=breed\n",
    "\n",
    "    def bark(self,number):     # it can take arguments as well\n",
    "        print('WOOF! my name is {} and number is {}'.format(self.name,number))"
   ]
  },
  {
   "cell_type": "code",
   "execution_count": 12,
   "id": "577e4631",
   "metadata": {},
   "outputs": [],
   "source": [
    "my_dog=Dog(name='kittu',breed='lab')"
   ]
  },
  {
   "cell_type": "code",
   "execution_count": 13,
   "id": "b5e4e651",
   "metadata": {},
   "outputs": [
    {
     "data": {
      "text/plain": [
       "'kittu'"
      ]
     },
     "execution_count": 13,
     "metadata": {},
     "output_type": "execute_result"
    }
   ],
   "source": [
    "my_dog.name"
   ]
  },
  {
   "cell_type": "code",
   "execution_count": 14,
   "id": "c90b9c62",
   "metadata": {},
   "outputs": [
    {
     "ename": "TypeError",
     "evalue": "bark() missing 1 required positional argument: 'number'",
     "output_type": "error",
     "traceback": [
      "\u001b[1;31m---------------------------------------------------------------------------\u001b[0m",
      "\u001b[1;31mTypeError\u001b[0m                                 Traceback (most recent call last)",
      "Input \u001b[1;32mIn [14]\u001b[0m, in \u001b[0;36m<cell line: 1>\u001b[1;34m()\u001b[0m\n\u001b[1;32m----> 1\u001b[0m \u001b[43mmy_dog\u001b[49m\u001b[38;5;241;43m.\u001b[39;49m\u001b[43mbark\u001b[49m\u001b[43m(\u001b[49m\u001b[43m)\u001b[49m\n",
      "\u001b[1;31mTypeError\u001b[0m: bark() missing 1 required positional argument: 'number'"
     ]
    }
   ],
   "source": [
    "my_dog.bark()"
   ]
  },
  {
   "cell_type": "code",
   "execution_count": 15,
   "id": "13b9a2f4",
   "metadata": {},
   "outputs": [
    {
     "name": "stdout",
     "output_type": "stream",
     "text": [
      "WOOF! my name is kittu and number is 10\n"
     ]
    }
   ],
   "source": [
    "my_dog.bark(10)"
   ]
  },
  {
   "cell_type": "code",
   "execution_count": 32,
   "id": "39052944",
   "metadata": {},
   "outputs": [],
   "source": [
    "class Circle():\n",
    "    # class object attribute\n",
    "    pi=3.14\n",
    "    # attribute\n",
    "    def __init__(self,radius=1):\n",
    "        self.radius=radius\n",
    "    #method\n",
    "    def circumference(self):\n",
    "        return 2*self.pi*self.radius"
   ]
  },
  {
   "cell_type": "code",
   "execution_count": 33,
   "id": "6e5e2b7e",
   "metadata": {},
   "outputs": [],
   "source": [
    "my_circle=Circle(30)"
   ]
  },
  {
   "cell_type": "code",
   "execution_count": 34,
   "id": "17628715",
   "metadata": {},
   "outputs": [
    {
     "data": {
      "text/plain": [
       "3.14"
      ]
     },
     "execution_count": 34,
     "metadata": {},
     "output_type": "execute_result"
    }
   ],
   "source": [
    "my_circle.pi"
   ]
  },
  {
   "cell_type": "code",
   "execution_count": 35,
   "id": "8b99d5c4",
   "metadata": {},
   "outputs": [
    {
     "data": {
      "text/plain": [
       "30"
      ]
     },
     "execution_count": 35,
     "metadata": {},
     "output_type": "execute_result"
    }
   ],
   "source": [
    "my_circle.radius    # we can override the values regardless of the values provided in the arguments"
   ]
  },
  {
   "cell_type": "code",
   "execution_count": 36,
   "id": "25037765",
   "metadata": {},
   "outputs": [
    {
     "data": {
      "text/plain": [
       "188.4"
      ]
     },
     "execution_count": 36,
     "metadata": {},
     "output_type": "execute_result"
    }
   ],
   "source": [
    "my_circle.circumference()"
   ]
  },
  {
   "cell_type": "code",
   "execution_count": 44,
   "id": "7c8308aa",
   "metadata": {},
   "outputs": [],
   "source": [
    "class Circle():\n",
    "    # class object attribute\n",
    "    pi=3.14\n",
    "    # attribute\n",
    "    def __init__(self,radius=1):\n",
    "        self.radius=radius\n",
    "        self.area=radius*radius*Circle.pi\n",
    "    #method\n",
    "    def circumference(self):\n",
    "        return 2*self.pi*Circle.radius"
   ]
  },
  {
   "cell_type": "code",
   "execution_count": 45,
   "id": "59ed109a",
   "metadata": {},
   "outputs": [],
   "source": [
    "my_circle=Circle(30)"
   ]
  },
  {
   "cell_type": "code",
   "execution_count": 46,
   "id": "7a615085",
   "metadata": {},
   "outputs": [
    {
     "data": {
      "text/plain": [
       "3.14"
      ]
     },
     "execution_count": 46,
     "metadata": {},
     "output_type": "execute_result"
    }
   ],
   "source": [
    "my_circle.pi"
   ]
  },
  {
   "cell_type": "code",
   "execution_count": 47,
   "id": "d5f307be",
   "metadata": {},
   "outputs": [
    {
     "data": {
      "text/plain": [
       "30"
      ]
     },
     "execution_count": 47,
     "metadata": {},
     "output_type": "execute_result"
    }
   ],
   "source": [
    "my_circle.radius"
   ]
  },
  {
   "cell_type": "code",
   "execution_count": 48,
   "id": "40f13c92",
   "metadata": {},
   "outputs": [
    {
     "data": {
      "text/plain": [
       "2826.0"
      ]
     },
     "execution_count": 48,
     "metadata": {},
     "output_type": "execute_result"
    }
   ],
   "source": [
    "my_circle.area"
   ]
  },
  {
   "cell_type": "code",
   "execution_count": 49,
   "id": "3ca6c9d6",
   "metadata": {},
   "outputs": [],
   "source": [
    "class Circle():\n",
    "    pi=3.14\n",
    "    def __init__(self,radius):\n",
    "        self.radius=radius\n",
    "        \n",
    "    def circumference():\n",
    "        return 2*pi*self.radius"
   ]
  },
  {
   "cell_type": "code",
   "execution_count": 51,
   "id": "a2612924",
   "metadata": {},
   "outputs": [],
   "source": [
    "my_circle=Circle(1)"
   ]
  },
  {
   "cell_type": "code",
   "execution_count": 52,
   "id": "653f00b1",
   "metadata": {},
   "outputs": [
    {
     "data": {
      "text/plain": [
       "3.14"
      ]
     },
     "execution_count": 52,
     "metadata": {},
     "output_type": "execute_result"
    }
   ],
   "source": [
    "my_circle.pi"
   ]
  },
  {
   "cell_type": "code",
   "execution_count": 53,
   "id": "07137dcc",
   "metadata": {},
   "outputs": [
    {
     "data": {
      "text/plain": [
       "1"
      ]
     },
     "execution_count": 53,
     "metadata": {},
     "output_type": "execute_result"
    }
   ],
   "source": [
    "my_circle.radius"
   ]
  },
  {
   "cell_type": "code",
   "execution_count": 56,
   "id": "8cf8cbd0",
   "metadata": {},
   "outputs": [
    {
     "ename": "TypeError",
     "evalue": "circumference() takes 0 positional arguments but 1 was given",
     "output_type": "error",
     "traceback": [
      "\u001b[1;31m---------------------------------------------------------------------------\u001b[0m",
      "\u001b[1;31mTypeError\u001b[0m                                 Traceback (most recent call last)",
      "Input \u001b[1;32mIn [56]\u001b[0m, in \u001b[0;36m<cell line: 1>\u001b[1;34m()\u001b[0m\n\u001b[1;32m----> 1\u001b[0m \u001b[43mmy_circle\u001b[49m\u001b[38;5;241;43m.\u001b[39;49m\u001b[43mcircumference\u001b[49m\u001b[43m(\u001b[49m\u001b[43m)\u001b[49m\n",
      "\u001b[1;31mTypeError\u001b[0m: circumference() takes 0 positional arguments but 1 was given"
     ]
    }
   ],
   "source": [
    "my_circle.circumference()"
   ]
  },
  {
   "cell_type": "code",
   "execution_count": 92,
   "id": "2c225a2f",
   "metadata": {},
   "outputs": [],
   "source": [
    "class Circle():\n",
    "    # class object attribute\n",
    "    pi=3.14\n",
    "    #attributes\n",
    "    def __init__(self,radius):\n",
    "        self.radius=radius\n",
    "        self.area=self.pi*radius*radius\n",
    "        \n",
    "    # method\n",
    "    def circumference(radius):\n",
    "        return 2*self.pi*radius"
   ]
  },
  {
   "cell_type": "code",
   "execution_count": 93,
   "id": "9035db5b",
   "metadata": {},
   "outputs": [],
   "source": [
    "my_circle=Circle(1)"
   ]
  },
  {
   "cell_type": "code",
   "execution_count": 94,
   "id": "10475526",
   "metadata": {},
   "outputs": [
    {
     "data": {
      "text/plain": [
       "__main__.Circle"
      ]
     },
     "execution_count": 94,
     "metadata": {},
     "output_type": "execute_result"
    }
   ],
   "source": [
    "type(my_circle)"
   ]
  },
  {
   "cell_type": "code",
   "execution_count": 95,
   "id": "91ffaf61",
   "metadata": {},
   "outputs": [
    {
     "data": {
      "text/plain": [
       "3.14"
      ]
     },
     "execution_count": 95,
     "metadata": {},
     "output_type": "execute_result"
    }
   ],
   "source": [
    "my_circle.pi"
   ]
  },
  {
   "cell_type": "code",
   "execution_count": 96,
   "id": "aacdf7c5",
   "metadata": {},
   "outputs": [
    {
     "data": {
      "text/plain": [
       "1"
      ]
     },
     "execution_count": 96,
     "metadata": {},
     "output_type": "execute_result"
    }
   ],
   "source": [
    "my_circle.radius"
   ]
  },
  {
   "cell_type": "code",
   "execution_count": 97,
   "id": "9707cdef",
   "metadata": {},
   "outputs": [
    {
     "data": {
      "text/plain": [
       "3.14"
      ]
     },
     "execution_count": 97,
     "metadata": {},
     "output_type": "execute_result"
    }
   ],
   "source": [
    "my_circle.area"
   ]
  },
  {
   "cell_type": "code",
   "execution_count": 98,
   "id": "d042797f",
   "metadata": {},
   "outputs": [
    {
     "ename": "NameError",
     "evalue": "name 'self' is not defined",
     "output_type": "error",
     "traceback": [
      "\u001b[1;31m---------------------------------------------------------------------------\u001b[0m",
      "\u001b[1;31mNameError\u001b[0m                                 Traceback (most recent call last)",
      "Input \u001b[1;32mIn [98]\u001b[0m, in \u001b[0;36m<cell line: 1>\u001b[1;34m()\u001b[0m\n\u001b[1;32m----> 1\u001b[0m \u001b[43mmy_circle\u001b[49m\u001b[38;5;241;43m.\u001b[39;49m\u001b[43mcircumference\u001b[49m\u001b[43m(\u001b[49m\u001b[43m)\u001b[49m\n",
      "Input \u001b[1;32mIn [92]\u001b[0m, in \u001b[0;36mCircle.circumference\u001b[1;34m(radius)\u001b[0m\n\u001b[0;32m     10\u001b[0m \u001b[38;5;28;01mdef\u001b[39;00m \u001b[38;5;21mcircumference\u001b[39m(radius):\n\u001b[1;32m---> 11\u001b[0m     \u001b[38;5;28;01mreturn\u001b[39;00m \u001b[38;5;241m2\u001b[39m\u001b[38;5;241m*\u001b[39m\u001b[38;5;28;43mself\u001b[39;49m\u001b[38;5;241m.\u001b[39mpi\u001b[38;5;241m*\u001b[39mradius\n",
      "\u001b[1;31mNameError\u001b[0m: name 'self' is not defined"
     ]
    }
   ],
   "source": [
    "my_circle.circumference()"
   ]
  },
  {
   "cell_type": "code",
   "execution_count": 99,
   "id": "7317e982",
   "metadata": {},
   "outputs": [],
   "source": [
    "class Circle():\n",
    "    # class object attribute\n",
    "    pi=3.14\n",
    "    # attribute\n",
    "    def __init__(self,radius=1):\n",
    "        self.radius=radius\n",
    "        self.area=radius*radius*Circle.pi\n",
    "    #method\n",
    "    def circumference(self):\n",
    "        return 2*self.pi*Circle.radius"
   ]
  },
  {
   "cell_type": "code",
   "execution_count": 35,
   "id": "89aacaad",
   "metadata": {},
   "outputs": [],
   "source": [
    "class Circle():\n",
    "    # class object attribute\n",
    "    pi=3.14\n",
    "    # attribute\n",
    "    def __init__(self,radius):\n",
    "        self.radius=radius\n",
    "    # method\n",
    "    def circumference(self):\n",
    "        return 2*Circle.pi*self.radius\n",
    "    "
   ]
  },
  {
   "cell_type": "code",
   "execution_count": 36,
   "id": "1b05e52a",
   "metadata": {},
   "outputs": [],
   "source": [
    "my_circle=Circle(1)"
   ]
  },
  {
   "cell_type": "code",
   "execution_count": 37,
   "id": "c7d0708d",
   "metadata": {},
   "outputs": [
    {
     "data": {
      "text/plain": [
       "6.28"
      ]
     },
     "execution_count": 37,
     "metadata": {},
     "output_type": "execute_result"
    }
   ],
   "source": [
    "my_circle.circumference()"
   ]
  },
  {
   "cell_type": "code",
   "execution_count": 50,
   "id": "b9bd3e2c",
   "metadata": {},
   "outputs": [],
   "source": [
    "class Circle():\n",
    "    # class object attribute\n",
    "    pi=3.14\n",
    "    \n",
    "    # attributes\n",
    "    def __init__(self,radius):\n",
    "        self.radius=radius\n",
    "        self.area=Circle.pi*self.radius*self.radius\n",
    "\n",
    "    # methods\n",
    "    def circumference(self):\n",
    "        return 2*Circle.pi*self.radius"
   ]
  },
  {
   "cell_type": "code",
   "execution_count": 51,
   "id": "baf01cf4",
   "metadata": {},
   "outputs": [],
   "source": [
    "my_circle=Circle(30)"
   ]
  },
  {
   "cell_type": "code",
   "execution_count": 52,
   "id": "c58850a0",
   "metadata": {},
   "outputs": [
    {
     "data": {
      "text/plain": [
       "__main__.Circle"
      ]
     },
     "execution_count": 52,
     "metadata": {},
     "output_type": "execute_result"
    }
   ],
   "source": [
    "type(my_circle)"
   ]
  },
  {
   "cell_type": "code",
   "execution_count": 53,
   "id": "f7d99551",
   "metadata": {},
   "outputs": [
    {
     "data": {
      "text/plain": [
       "3.14"
      ]
     },
     "execution_count": 53,
     "metadata": {},
     "output_type": "execute_result"
    }
   ],
   "source": [
    "my_circle.pi"
   ]
  },
  {
   "cell_type": "code",
   "execution_count": 54,
   "id": "7f689d29",
   "metadata": {},
   "outputs": [
    {
     "data": {
      "text/plain": [
       "30"
      ]
     },
     "execution_count": 54,
     "metadata": {},
     "output_type": "execute_result"
    }
   ],
   "source": [
    "my_circle.radius"
   ]
  },
  {
   "cell_type": "code",
   "execution_count": 55,
   "id": "12148db3",
   "metadata": {},
   "outputs": [
    {
     "data": {
      "text/plain": [
       "188.4"
      ]
     },
     "execution_count": 55,
     "metadata": {},
     "output_type": "execute_result"
    }
   ],
   "source": [
    "my_circle.circumference()"
   ]
  },
  {
   "cell_type": "code",
   "execution_count": 56,
   "id": "37b71346",
   "metadata": {},
   "outputs": [
    {
     "data": {
      "text/plain": [
       "2826.0"
      ]
     },
     "execution_count": 56,
     "metadata": {},
     "output_type": "execute_result"
    }
   ],
   "source": [
    "my_circle.area"
   ]
  },
  {
   "cell_type": "code",
   "execution_count": 73,
   "id": "345a9043",
   "metadata": {},
   "outputs": [],
   "source": [
    "class Circle():\n",
    "    # class object attribute\n",
    "    pi=3.14\n",
    "    \n",
    "    # attribute\n",
    "    def __init__(self,radius):\n",
    "        self.radius=radius\n",
    "        self.area=Circle.pi*self.radius*2        \n",
    "    # methods\n",
    "    \n",
    "    def circumference(self):\n",
    "        return 2*Circle.pi*self.radius"
   ]
  },
  {
   "cell_type": "code",
   "execution_count": 74,
   "id": "f9070bd0",
   "metadata": {},
   "outputs": [],
   "source": [
    "my_circle=Circle(30)"
   ]
  },
  {
   "cell_type": "code",
   "execution_count": 75,
   "id": "b1617bc3",
   "metadata": {},
   "outputs": [
    {
     "data": {
      "text/plain": [
       "__main__.Circle"
      ]
     },
     "execution_count": 75,
     "metadata": {},
     "output_type": "execute_result"
    }
   ],
   "source": [
    "type(my_circle)"
   ]
  },
  {
   "cell_type": "code",
   "execution_count": 76,
   "id": "259fd65e",
   "metadata": {},
   "outputs": [
    {
     "data": {
      "text/plain": [
       "3.14"
      ]
     },
     "execution_count": 76,
     "metadata": {},
     "output_type": "execute_result"
    }
   ],
   "source": [
    "my_circle.pi"
   ]
  },
  {
   "cell_type": "code",
   "execution_count": 77,
   "id": "c45d52d1",
   "metadata": {},
   "outputs": [
    {
     "data": {
      "text/plain": [
       "30"
      ]
     },
     "execution_count": 77,
     "metadata": {},
     "output_type": "execute_result"
    }
   ],
   "source": [
    "my_circle.radius"
   ]
  },
  {
   "cell_type": "code",
   "execution_count": 78,
   "id": "c7b140bb",
   "metadata": {},
   "outputs": [
    {
     "data": {
      "text/plain": [
       "188.4"
      ]
     },
     "execution_count": 78,
     "metadata": {},
     "output_type": "execute_result"
    }
   ],
   "source": [
    "my_circle.circumference()"
   ]
  },
  {
   "cell_type": "code",
   "execution_count": 79,
   "id": "91b100a0",
   "metadata": {},
   "outputs": [
    {
     "data": {
      "text/plain": [
       "188.4"
      ]
     },
     "execution_count": 79,
     "metadata": {},
     "output_type": "execute_result"
    }
   ],
   "source": [
    "my_circle.area"
   ]
  },
  {
   "cell_type": "code",
   "execution_count": 16,
   "id": "cb283ef3",
   "metadata": {},
   "outputs": [],
   "source": [
    "class Circle():\n",
    "    pi=3.14\n",
    "    def __init__(self,radius):\n",
    "        self.radius=radius\n",
    "    def circumference(self):\n",
    "        return 2*self.pi*self.radius"
   ]
  },
  {
   "cell_type": "code",
   "execution_count": 17,
   "id": "78feff54",
   "metadata": {},
   "outputs": [],
   "source": [
    "my_circle=Circle"
   ]
  },
  {
   "cell_type": "code",
   "execution_count": 18,
   "id": "4d9cfb93",
   "metadata": {},
   "outputs": [
    {
     "data": {
      "text/plain": [
       "3.14"
      ]
     },
     "execution_count": 18,
     "metadata": {},
     "output_type": "execute_result"
    }
   ],
   "source": [
    "my_circle.pi"
   ]
  },
  {
   "cell_type": "code",
   "execution_count": 19,
   "id": "21e44311",
   "metadata": {},
   "outputs": [
    {
     "ename": "AttributeError",
     "evalue": "type object 'Circle' has no attribute 'radius'",
     "output_type": "error",
     "traceback": [
      "\u001b[1;31m---------------------------------------------------------------------------\u001b[0m",
      "\u001b[1;31mAttributeError\u001b[0m                            Traceback (most recent call last)",
      "Input \u001b[1;32mIn [19]\u001b[0m, in \u001b[0;36m<cell line: 1>\u001b[1;34m()\u001b[0m\n\u001b[1;32m----> 1\u001b[0m \u001b[43mmy_circle\u001b[49m\u001b[38;5;241;43m.\u001b[39;49m\u001b[43mradius\u001b[49m\n",
      "\u001b[1;31mAttributeError\u001b[0m: type object 'Circle' has no attribute 'radius'"
     ]
    }
   ],
   "source": [
    "my_circle.radius"
   ]
  },
  {
   "cell_type": "code",
   "execution_count": 20,
   "id": "8447d08f",
   "metadata": {},
   "outputs": [],
   "source": [
    "my_circle=Circle(1)"
   ]
  },
  {
   "cell_type": "code",
   "execution_count": 21,
   "id": "6d0b042f",
   "metadata": {},
   "outputs": [
    {
     "data": {
      "text/plain": [
       "1"
      ]
     },
     "execution_count": 21,
     "metadata": {},
     "output_type": "execute_result"
    }
   ],
   "source": [
    "my_circle.radius"
   ]
  },
  {
   "cell_type": "code",
   "execution_count": 22,
   "id": "3c52dab3",
   "metadata": {},
   "outputs": [
    {
     "data": {
      "text/plain": [
       "6.28"
      ]
     },
     "execution_count": 22,
     "metadata": {},
     "output_type": "execute_result"
    }
   ],
   "source": [
    "my_circle.circumference()"
   ]
  },
  {
   "cell_type": "code",
   "execution_count": 1,
   "id": "ad5cf746",
   "metadata": {},
   "outputs": [],
   "source": [
    "# inheritance\n",
    "\n",
    "\n",
    "# INHERITANCE IS THE WAY TO FORM NEW CLASSES USING CLASSES THAT ALREADY BEEN DEFINED.\n",
    "# IN INHERITANCE WE CAN REUSE CODE THAT YOU'VE ALREADY WORKED AND TO REDUCE COMPLEXITY OF A PROGRAM\n",
    "# NEWLY FORMED CLASSES CAN USE THE ALREADY DEFINED CLASS IN ORDER TO INHERIT SOME OF ITS METHODS THAT YOU MAY WANT TO USE AGAIN\n",
    "\n",
    "\n",
    "class Animal():    # THIS IS THE BASE CLASS\n",
    "    def __init__(self):\n",
    "        print('Animal created')\n",
    "    def who_am_i(self):\n",
    "        print('I am an animal')\n",
    "    def eat(self):\n",
    "        print('I am eatig')"
   ]
  },
  {
   "cell_type": "code",
   "execution_count": 2,
   "id": "1242c453",
   "metadata": {},
   "outputs": [
    {
     "name": "stdout",
     "output_type": "stream",
     "text": [
      "Animal created\n"
     ]
    }
   ],
   "source": [
    "my_animal=Animal()"
   ]
  },
  {
   "cell_type": "code",
   "execution_count": 3,
   "id": "45dc3b36",
   "metadata": {},
   "outputs": [
    {
     "data": {
      "text/plain": [
       "<bound method Animal.eat of <__main__.Animal object at 0x00000265A81D6EE0>>"
      ]
     },
     "execution_count": 3,
     "metadata": {},
     "output_type": "execute_result"
    }
   ],
   "source": [
    "my_animal.eat"
   ]
  },
  {
   "cell_type": "code",
   "execution_count": 4,
   "id": "1b2d90a9",
   "metadata": {},
   "outputs": [
    {
     "name": "stdout",
     "output_type": "stream",
     "text": [
      "I am eatig\n"
     ]
    }
   ],
   "source": [
    "my_animal.eat()"
   ]
  },
  {
   "cell_type": "code",
   "execution_count": 6,
   "id": "1218bc2d",
   "metadata": {},
   "outputs": [
    {
     "name": "stdout",
     "output_type": "stream",
     "text": [
      "I am an animal\n"
     ]
    }
   ],
   "source": [
    "my_animal.who_am_i()"
   ]
  },
  {
   "cell_type": "code",
   "execution_count": 7,
   "id": "521817b0",
   "metadata": {},
   "outputs": [],
   "source": [
    "class Animal():\n",
    "    def __init__(self):\n",
    "        print('Animal created')\n",
    "    def who_am_i(self):\n",
    "        print('I am an animal')\n",
    "    def eat(self):\n",
    "        print('I am eating')"
   ]
  },
  {
   "cell_type": "code",
   "execution_count": 8,
   "id": "7b30c12e",
   "metadata": {},
   "outputs": [
    {
     "name": "stdout",
     "output_type": "stream",
     "text": [
      "Animal created\n"
     ]
    }
   ],
   "source": [
    "my_animal=Animal()"
   ]
  },
  {
   "cell_type": "code",
   "execution_count": 9,
   "id": "f70f3db6",
   "metadata": {},
   "outputs": [
    {
     "name": "stdout",
     "output_type": "stream",
     "text": [
      "I am an animal\n"
     ]
    }
   ],
   "source": [
    "my_animal.who_am_i()"
   ]
  },
  {
   "cell_type": "code",
   "execution_count": 10,
   "id": "8e1fe2b9",
   "metadata": {},
   "outputs": [
    {
     "name": "stdout",
     "output_type": "stream",
     "text": [
      "I am eating\n"
     ]
    }
   ],
   "source": [
    "my_animal.eat()"
   ]
  },
  {
   "cell_type": "code",
   "execution_count": 11,
   "id": "375fa868",
   "metadata": {},
   "outputs": [],
   "source": [
    "class Dog(Animal):    # THIS IS THE DERIVED CLASS\n",
    "    def __init__(self):\n",
    "        Animal.__init__(self)\n",
    "        print('Dog created')"
   ]
  },
  {
   "cell_type": "code",
   "execution_count": 12,
   "id": "5f87d566",
   "metadata": {},
   "outputs": [
    {
     "name": "stdout",
     "output_type": "stream",
     "text": [
      "Animal created\n",
      "Dog created\n"
     ]
    }
   ],
   "source": [
    "my_dog=Dog()"
   ]
  },
  {
   "cell_type": "code",
   "execution_count": 13,
   "id": "72581e3b",
   "metadata": {},
   "outputs": [
    {
     "name": "stdout",
     "output_type": "stream",
     "text": [
      "I am eating\n"
     ]
    }
   ],
   "source": [
    "my_dog.eat()     # WE CAN REUSE THE METHODS THAT ALREADY BEEN DEFINED IN THE ANIMAL CLASS"
   ]
  },
  {
   "cell_type": "code",
   "execution_count": 14,
   "id": "08a3d713",
   "metadata": {},
   "outputs": [
    {
     "name": "stdout",
     "output_type": "stream",
     "text": [
      "I am an animal\n"
     ]
    }
   ],
   "source": [
    "my_dog.who_am_i()"
   ]
  },
  {
   "cell_type": "code",
   "execution_count": 16,
   "id": "871efa14",
   "metadata": {},
   "outputs": [],
   "source": [
    "# WE CAN OVERRIDE SOME OF ITS METHODS"
   ]
  },
  {
   "cell_type": "code",
   "execution_count": 18,
   "id": "cd0a251e",
   "metadata": {},
   "outputs": [],
   "source": [
    " class Dog():\n",
    "        def __init__(self):\n",
    "            Animal.__init__(self)\n",
    "            print('Dog created')\n",
    "            \n",
    "        def who_am_i(self):\n",
    "            print('I am a Dog')"
   ]
  },
  {
   "cell_type": "code",
   "execution_count": 22,
   "id": "88cdcfb3",
   "metadata": {},
   "outputs": [
    {
     "name": "stdout",
     "output_type": "stream",
     "text": [
      "Animal created\n",
      "Dog created\n"
     ]
    }
   ],
   "source": [
    "my_dog=Dog()"
   ]
  },
  {
   "cell_type": "code",
   "execution_count": 23,
   "id": "ec05ea36",
   "metadata": {},
   "outputs": [
    {
     "name": "stdout",
     "output_type": "stream",
     "text": [
      "I am a Dog\n"
     ]
    }
   ],
   "source": [
    "my_dog.who_am_i()"
   ]
  },
  {
   "cell_type": "code",
   "execution_count": 24,
   "id": "1a445feb",
   "metadata": {},
   "outputs": [],
   "source": [
    "# WE CAN ALSO ADD METHODS "
   ]
  },
  {
   "cell_type": "code",
   "execution_count": 25,
   "id": "6deeb2c4",
   "metadata": {},
   "outputs": [],
   "source": [
    "class Dog(Animal):\n",
    "    def __init__(self):\n",
    "        Animal.__init__(self)\n",
    "        print('Dog created')\n",
    "    def eat(self):    # WE ARE OVERRIDING HERE\n",
    "        print('I am a dog and I am eating')\n",
    "    def bark(self):   # WE ARE ADDING NEW METHOS HERE\n",
    "        print('Bow Bow')"
   ]
  },
  {
   "cell_type": "code",
   "execution_count": 26,
   "id": "b675f298",
   "metadata": {},
   "outputs": [
    {
     "name": "stdout",
     "output_type": "stream",
     "text": [
      "Animal created\n",
      "Dog created\n"
     ]
    }
   ],
   "source": [
    "my_dog=Dog()"
   ]
  },
  {
   "cell_type": "code",
   "execution_count": 27,
   "id": "c0665ee9",
   "metadata": {},
   "outputs": [
    {
     "name": "stdout",
     "output_type": "stream",
     "text": [
      "I am an animal\n"
     ]
    }
   ],
   "source": [
    "my_dog.who_am_i()"
   ]
  },
  {
   "cell_type": "code",
   "execution_count": 28,
   "id": "ef95b11f",
   "metadata": {},
   "outputs": [
    {
     "name": "stdout",
     "output_type": "stream",
     "text": [
      "I am a dog and I am eating\n"
     ]
    }
   ],
   "source": [
    "my_dog.eat()"
   ]
  },
  {
   "cell_type": "code",
   "execution_count": 29,
   "id": "04c161bb",
   "metadata": {},
   "outputs": [
    {
     "name": "stdout",
     "output_type": "stream",
     "text": [
      "Bow Bow\n"
     ]
    }
   ],
   "source": [
    "my_dog.bark()"
   ]
  },
  {
   "cell_type": "code",
   "execution_count": 30,
   "id": "d7061151",
   "metadata": {},
   "outputs": [],
   "source": [
    "# POLYMORPHISM - DOUBT"
   ]
  },
  {
   "cell_type": "code",
   "execution_count": 31,
   "id": "381616ee",
   "metadata": {},
   "outputs": [],
   "source": [
    "#ABSTRACT CLASS - DOUBT"
   ]
  },
  {
   "cell_type": "code",
   "execution_count": 32,
   "id": "cbed9c9f",
   "metadata": {},
   "outputs": [],
   "source": [
    "# INSTANCE - DOUBT"
   ]
  },
  {
   "cell_type": "code",
   "execution_count": 33,
   "id": "dcaf46bd",
   "metadata": {},
   "outputs": [],
   "source": [
    "# SPECIAL / MAGICAL / DUNDER METHODS"
   ]
  },
  {
   "cell_type": "code",
   "execution_count": 5,
   "id": "522a9004",
   "metadata": {},
   "outputs": [],
   "source": [
    "class Book():\n",
    "    def __init__(self, title,author,pages):\n",
    "        self.title=title\n",
    "        self.author=author\n",
    "        self.pages=pages"
   ]
  },
  {
   "cell_type": "code",
   "execution_count": 6,
   "id": "9debac4f",
   "metadata": {},
   "outputs": [],
   "source": [
    " my_book=Book('abc','xyz',100)"
   ]
  },
  {
   "cell_type": "code",
   "execution_count": 7,
   "id": "c4fc0af7",
   "metadata": {},
   "outputs": [
    {
     "name": "stdout",
     "output_type": "stream",
     "text": [
      "<__main__.Book object at 0x0000021D1FD96BB0>\n"
     ]
    }
   ],
   "source": [
    "print(my_book)"
   ]
  },
  {
   "cell_type": "code",
   "execution_count": 8,
   "id": "08f61b42",
   "metadata": {},
   "outputs": [
    {
     "data": {
      "text/plain": [
       "'<__main__.Book object at 0x0000021D1FD96BB0>'"
      ]
     },
     "execution_count": 8,
     "metadata": {},
     "output_type": "execute_result"
    }
   ],
   "source": [
    "str(my_book)"
   ]
  },
  {
   "cell_type": "code",
   "execution_count": 13,
   "id": "91d18731",
   "metadata": {},
   "outputs": [],
   "source": [
    "class Book():\n",
    "    def __init__(self, title,author,pages):\n",
    "        self.title=title\n",
    "        self.author=author\n",
    "        self.pages=pages\n",
    "        \n",
    "    def __str__(self):\n",
    "        return f\"{self.title} by {self.author}\"\n",
    "    \n",
    "    def __len__(self):\n",
    "        return self.pages"
   ]
  },
  {
   "cell_type": "code",
   "execution_count": 14,
   "id": "a6357bd9",
   "metadata": {},
   "outputs": [],
   "source": [
    "my_book=Book('abc','xyz',100)"
   ]
  },
  {
   "cell_type": "code",
   "execution_count": 15,
   "id": "aef8f567",
   "metadata": {},
   "outputs": [
    {
     "name": "stdout",
     "output_type": "stream",
     "text": [
      "abc by xyz\n"
     ]
    }
   ],
   "source": [
    "print(my_book)"
   ]
  },
  {
   "cell_type": "code",
   "execution_count": 17,
   "id": "af62aa97",
   "metadata": {},
   "outputs": [
    {
     "data": {
      "text/plain": [
       "'abc by xyz'"
      ]
     },
     "execution_count": 17,
     "metadata": {},
     "output_type": "execute_result"
    }
   ],
   "source": [
    "str(my_book)"
   ]
  },
  {
   "cell_type": "code",
   "execution_count": 18,
   "id": "fa527dba",
   "metadata": {},
   "outputs": [
    {
     "data": {
      "text/plain": [
       "100"
      ]
     },
     "execution_count": 18,
     "metadata": {},
     "output_type": "execute_result"
    }
   ],
   "source": [
    "len(my_book)"
   ]
  },
  {
   "cell_type": "code",
   "execution_count": 20,
   "id": "2412005b",
   "metadata": {},
   "outputs": [],
   "source": [
    "del my_book # TO DELETE A VARIABLE"
   ]
  },
  {
   "cell_type": "code",
   "execution_count": 21,
   "id": "92ad3531",
   "metadata": {},
   "outputs": [
    {
     "ename": "NameError",
     "evalue": "name 'my_book' is not defined",
     "output_type": "error",
     "traceback": [
      "\u001b[1;31m---------------------------------------------------------------------------\u001b[0m",
      "\u001b[1;31mNameError\u001b[0m                                 Traceback (most recent call last)",
      "Input \u001b[1;32mIn [21]\u001b[0m, in \u001b[0;36m<cell line: 1>\u001b[1;34m()\u001b[0m\n\u001b[1;32m----> 1\u001b[0m \u001b[43mmy_book\u001b[49m\n",
      "\u001b[1;31mNameError\u001b[0m: name 'my_book' is not defined"
     ]
    }
   ],
   "source": [
    " my_book"
   ]
  },
  {
   "cell_type": "code",
   "execution_count": 22,
   "id": "2466bd84",
   "metadata": {},
   "outputs": [],
   "source": [
    "class Book():\n",
    "    def __init__(self, title,author,pages):\n",
    "        self.title=title\n",
    "        self.author=author\n",
    "        self.pages=pages\n",
    "        \n",
    "    def __str__(self):\n",
    "        return f\"{self.title} by {self.author}\"\n",
    "    \n",
    "    def __len__(self):\n",
    "        return self.pages\n",
    "    \n",
    "    def __del__(self):     # IF WE WANT TO ADD EXTRA TEXT BY DELETING THE VARIABLE, WE CAN WRITE LIKE THIS\n",
    "        print('it has been deleted')"
   ]
  },
  {
   "cell_type": "code",
   "execution_count": 23,
   "id": "9480e5b9",
   "metadata": {},
   "outputs": [],
   "source": [
    "my_book=Book('abc','xyz',100)"
   ]
  },
  {
   "cell_type": "code",
   "execution_count": 24,
   "id": "27eb6aed",
   "metadata": {},
   "outputs": [
    {
     "name": "stdout",
     "output_type": "stream",
     "text": [
      "it has been deleted\n"
     ]
    }
   ],
   "source": [
    "del my_book"
   ]
  },
  {
   "cell_type": "code",
   "execution_count": 25,
   "id": "7ac5a017",
   "metadata": {},
   "outputs": [
    {
     "ename": "NameError",
     "evalue": "name 'my_book' is not defined",
     "output_type": "error",
     "traceback": [
      "\u001b[1;31m---------------------------------------------------------------------------\u001b[0m",
      "\u001b[1;31mNameError\u001b[0m                                 Traceback (most recent call last)",
      "Input \u001b[1;32mIn [25]\u001b[0m, in \u001b[0;36m<cell line: 1>\u001b[1;34m()\u001b[0m\n\u001b[1;32m----> 1\u001b[0m \u001b[43mmy_book\u001b[49m\n",
      "\u001b[1;31mNameError\u001b[0m: name 'my_book' is not defined"
     ]
    }
   ],
   "source": [
    "my_book"
   ]
  },
  {
   "cell_type": "code",
   "execution_count": null,
   "id": "37e96a04",
   "metadata": {},
   "outputs": [],
   "source": [
    "class Circle():\n",
    "    # class object attribute\n",
    "    pi=3.14\n",
    "    # attribute\n",
    "    def __init__(self,radius=1):\n",
    "        self.radius=radius\n",
    "    #method\n",
    "    def circumference(self):\n",
    "        return 2*self.pi*self.radius"
   ]
  },
  {
   "cell_type": "code",
   "execution_count": 10,
   "id": "72bea7d9",
   "metadata": {},
   "outputs": [],
   "source": [
    "class Cylinder():\n",
    "    pi=3.14\n",
    "    def __init__(self,height=1,radius=1):\n",
    "        self.height=height\n",
    "        self.radius=radius\n",
    "    def vol(self):\n",
    "        return self.pi*self.radius*self.radius*self.height   \n",
    "    def surface_area(self):\n",
    "        top=3.14*(self.radius**2)\n",
    "        return (2*top) + (2*3.14*self.radius*self.height)"
   ]
  },
  {
   "cell_type": "code",
   "execution_count": 11,
   "id": "15d7728d",
   "metadata": {},
   "outputs": [],
   "source": [
    "my_cylinder=Cylinder(2,3)"
   ]
  },
  {
   "cell_type": "code",
   "execution_count": 12,
   "id": "777c3acb",
   "metadata": {},
   "outputs": [
    {
     "ename": "AttributeError",
     "evalue": "'Cylinder' object has no attribute 'volume'",
     "output_type": "error",
     "traceback": [
      "\u001b[1;31m---------------------------------------------------------------------------\u001b[0m",
      "\u001b[1;31mAttributeError\u001b[0m                            Traceback (most recent call last)",
      "Input \u001b[1;32mIn [12]\u001b[0m, in \u001b[0;36m<cell line: 1>\u001b[1;34m()\u001b[0m\n\u001b[1;32m----> 1\u001b[0m \u001b[43mmy_cylinder\u001b[49m\u001b[38;5;241;43m.\u001b[39;49m\u001b[43mvolume\u001b[49m()\n",
      "\u001b[1;31mAttributeError\u001b[0m: 'Cylinder' object has no attribute 'volume'"
     ]
    }
   ],
   "source": [
    "my_cylinder.volume()"
   ]
  },
  {
   "cell_type": "code",
   "execution_count": 13,
   "id": "8982f508",
   "metadata": {},
   "outputs": [
    {
     "data": {
      "text/plain": [
       "56.519999999999996"
      ]
     },
     "execution_count": 13,
     "metadata": {},
     "output_type": "execute_result"
    }
   ],
   "source": [
    "my_cylinder.vol()"
   ]
  },
  {
   "cell_type": "code",
   "execution_count": 14,
   "id": "66dc9ee7",
   "metadata": {},
   "outputs": [
    {
     "data": {
      "text/plain": [
       "94.2"
      ]
     },
     "execution_count": 14,
     "metadata": {},
     "output_type": "execute_result"
    }
   ],
   "source": [
    "my_cylinder.surface_area()"
   ]
  },
  {
   "cell_type": "code",
   "execution_count": 15,
   "id": "b6cf9086",
   "metadata": {},
   "outputs": [],
   "source": [
    "class Line:\n",
    "    def __init__(self,coor1,coor2):\n",
    "        self.coor1=coor1\n",
    "        self.coor2=coor2\n",
    "        \n",
    "    def distance(self):\n",
    "        x1,y1=self.coor1\n",
    "        x2,y2=self.coor2\n",
    "        return ((x2-x1)**2 + (y2-y1)**2)**0.5\n",
    "    \n",
    "    def slope(self):\n",
    "        x1,y1=self.coor1\n",
    "        x2,y2=self.coor2\n",
    "        return (y2-y1)/(x2-x1)\n",
    "    "
   ]
  },
  {
   "cell_type": "code",
   "execution_count": 16,
   "id": "69f60d79",
   "metadata": {},
   "outputs": [],
   "source": [
    "c1=(3,2)\n",
    "c2=(8,10)"
   ]
  },
  {
   "cell_type": "code",
   "execution_count": 17,
   "id": "88211dea",
   "metadata": {},
   "outputs": [],
   "source": [
    "my_line=Line(c1,c2)"
   ]
  },
  {
   "cell_type": "code",
   "execution_count": 18,
   "id": "d94b31f3",
   "metadata": {},
   "outputs": [
    {
     "data": {
      "text/plain": [
       "9.433981132056603"
      ]
     },
     "execution_count": 18,
     "metadata": {},
     "output_type": "execute_result"
    }
   ],
   "source": [
    "my_line.distance()"
   ]
  },
  {
   "cell_type": "code",
   "execution_count": 19,
   "id": "440719b6",
   "metadata": {},
   "outputs": [
    {
     "data": {
      "text/plain": [
       "1.6"
      ]
     },
     "execution_count": 19,
     "metadata": {},
     "output_type": "execute_result"
    }
   ],
   "source": [
    "my_line.slope()"
   ]
  },
  {
   "cell_type": "code",
   "execution_count": 20,
   "id": "928509c5",
   "metadata": {},
   "outputs": [],
   "source": [
    "# example of how you would actually grab a current attribute and then affect the change on it\n",
    "class Simple():\n",
    "    def __init__(self,value):\n",
    "        self.value = value\n",
    "    def add_to_value(self,amount):\n",
    "        self.value = self.value + amount"
   ]
  },
  {
   "cell_type": "code",
   "execution_count": 21,
   "id": "d01527a0",
   "metadata": {},
   "outputs": [],
   "source": [
    "my_simple=Simple(300)"
   ]
  },
  {
   "cell_type": "code",
   "execution_count": 22,
   "id": "ba538852",
   "metadata": {},
   "outputs": [
    {
     "data": {
      "text/plain": [
       "300"
      ]
     },
     "execution_count": 22,
     "metadata": {},
     "output_type": "execute_result"
    }
   ],
   "source": [
    "my_simple.value"
   ]
  },
  {
   "cell_type": "code",
   "execution_count": 23,
   "id": "cfb27f3d",
   "metadata": {},
   "outputs": [],
   "source": [
    "my_simple.add_to_value(500)"
   ]
  },
  {
   "cell_type": "code",
   "execution_count": 24,
   "id": "7c331bea",
   "metadata": {},
   "outputs": [
    {
     "data": {
      "text/plain": [
       "800"
      ]
     },
     "execution_count": 24,
     "metadata": {},
     "output_type": "execute_result"
    }
   ],
   "source": [
    "my_simple.value"
   ]
  },
  {
   "cell_type": "code",
   "execution_count": 1,
   "id": "d6105ace",
   "metadata": {},
   "outputs": [],
   "source": [
    "# another example\n",
    "\n",
    "class Account():\n",
    "    def __init__(self,owner,balance=0):\n",
    "        self.owner = owner\n",
    "        self.balance = balance\n",
    "        \n",
    "        \n",
    "    def deposit(self,dep_amnt):\n",
    "        self.balance = self.balance + dep_amnt\n",
    "        print(f\"Added {dep_amnt} to the balance\")\n",
    "        \n",
    "        \n",
    "    def withdrawal(self,wd_amnt):\n",
    "        if self.balance >= wd_amnt:\n",
    "            self.balance = self.balance - wd_amnt\n",
    "            print(\"withdrawal accepted\")\n",
    "        else:\n",
    "            print(\"Sorry not enough funds\")\n",
    "            \n",
    "            \n",
    "    def __str__(self):\n",
    "        return f\"owner: {self.owner} \\n balance:{self.balance}\""
   ]
  },
  {
   "cell_type": "code",
   "execution_count": 2,
   "id": "5f8edb92",
   "metadata": {},
   "outputs": [],
   "source": [
    "a=Account('sreya',500)"
   ]
  },
  {
   "cell_type": "code",
   "execution_count": 3,
   "id": "974cc772",
   "metadata": {},
   "outputs": [
    {
     "data": {
      "text/plain": [
       "'sreya'"
      ]
     },
     "execution_count": 3,
     "metadata": {},
     "output_type": "execute_result"
    }
   ],
   "source": [
    "a.owner"
   ]
  },
  {
   "cell_type": "code",
   "execution_count": 4,
   "id": "bad5fd01",
   "metadata": {},
   "outputs": [
    {
     "data": {
      "text/plain": [
       "500"
      ]
     },
     "execution_count": 4,
     "metadata": {},
     "output_type": "execute_result"
    }
   ],
   "source": [
    "a.balance"
   ]
  },
  {
   "cell_type": "code",
   "execution_count": 5,
   "id": "7eed740c",
   "metadata": {},
   "outputs": [
    {
     "name": "stdout",
     "output_type": "stream",
     "text": [
      "owner: sreya \n",
      " balance:500\n"
     ]
    }
   ],
   "source": [
    "print(a)"
   ]
  },
  {
   "cell_type": "code",
   "execution_count": 6,
   "id": "2a4f576d",
   "metadata": {},
   "outputs": [
    {
     "name": "stdout",
     "output_type": "stream",
     "text": [
      "Added 100 to the balance\n"
     ]
    }
   ],
   "source": [
    "a.deposit(100)"
   ]
  },
  {
   "cell_type": "code",
   "execution_count": 7,
   "id": "6c34739e",
   "metadata": {},
   "outputs": [
    {
     "name": "stdout",
     "output_type": "stream",
     "text": [
      "owner: sreya \n",
      " balance:600\n"
     ]
    }
   ],
   "source": [
    "print(a)"
   ]
  },
  {
   "cell_type": "code",
   "execution_count": 8,
   "id": "9fcdd388",
   "metadata": {},
   "outputs": [
    {
     "name": "stdout",
     "output_type": "stream",
     "text": [
      "withdrawal accepted\n"
     ]
    }
   ],
   "source": [
    "a.withdrawal(600)"
   ]
  },
  {
   "cell_type": "code",
   "execution_count": 9,
   "id": "46bbf6f3",
   "metadata": {},
   "outputs": [
    {
     "name": "stdout",
     "output_type": "stream",
     "text": [
      "owner: sreya \n",
      " balance:0\n"
     ]
    }
   ],
   "source": [
    "print(a)"
   ]
  },
  {
   "cell_type": "code",
   "execution_count": 10,
   "id": "64aecf93",
   "metadata": {},
   "outputs": [
    {
     "name": "stdout",
     "output_type": "stream",
     "text": [
      "Sorry not enough funds\n"
     ]
    }
   ],
   "source": [
    "a.withdrawal(1)"
   ]
  },
  {
   "cell_type": "code",
   "execution_count": 1,
   "id": "5764cd15",
   "metadata": {},
   "outputs": [],
   "source": [
    "# PACKAGES ARE THE COLLECTION OF MODULES - DOUBT\n",
    "# A module is a file with the extension.py that contains Python or C executable code - DOUBT"
   ]
  },
  {
   "cell_type": "code",
   "execution_count": 3,
   "id": "cadf2893",
   "metadata": {},
   "outputs": [],
   "source": [
    "# if __name__ == '__main__' - doubt"
   ]
  },
  {
   "cell_type": "code",
   "execution_count": 4,
   "id": "c5e37c88",
   "metadata": {},
   "outputs": [],
   "source": [
    "# ERROR HANDLING \n",
    "# TRY - THIS IS THE BLOCK OF CODE TO BE ATTEMPTED( MAY OR MAY NOT LEAD TO ERROR)\n",
    "# EXCEPT - BLOCK OF CODE WILL EXECUTE IN CASE THERE IS AN ERROE IN TRY BLOCK\n",
    "# FINALLY - A FINAL BLOCK OF CODE TO BE EXECUTED , REGARDLESS OF AN ERROR"
   ]
  },
  {
   "cell_type": "code",
   "execution_count": 5,
   "id": "188c7039",
   "metadata": {},
   "outputs": [],
   "source": [
    "# THE IDEA BEHIND THE TRY , EXCEPT AND FINALLY BLOCKS IS TO TO DO BLOCK THE CODE , EVEN IF THE ERROR OCCURS"
   ]
  },
  {
   "cell_type": "code",
   "execution_count": 6,
   "id": "66f42eae",
   "metadata": {},
   "outputs": [],
   "source": [
    "def add(n1,n2):\n",
    "    print(n1+n2)"
   ]
  },
  {
   "cell_type": "code",
   "execution_count": 7,
   "id": "484dd0e6",
   "metadata": {},
   "outputs": [
    {
     "name": "stdout",
     "output_type": "stream",
     "text": [
      "3\n"
     ]
    }
   ],
   "source": [
    "add(1,2)"
   ]
  },
  {
   "cell_type": "code",
   "execution_count": 8,
   "id": "40a876ce",
   "metadata": {},
   "outputs": [
    {
     "ename": "TypeError",
     "evalue": "can only concatenate str (not \"int\") to str",
     "output_type": "error",
     "traceback": [
      "\u001b[1;31m---------------------------------------------------------------------------\u001b[0m",
      "\u001b[1;31mTypeError\u001b[0m                                 Traceback (most recent call last)",
      "Input \u001b[1;32mIn [8]\u001b[0m, in \u001b[0;36m<cell line: 1>\u001b[1;34m()\u001b[0m\n\u001b[1;32m----> 1\u001b[0m add(\u001b[38;5;124;43m'\u001b[39;49m\u001b[38;5;124;43m1\u001b[39;49m\u001b[38;5;124;43m'\u001b[39;49m\u001b[38;5;241;43m+\u001b[39;49m\u001b[38;5;241;43m2\u001b[39;49m)\n",
      "\u001b[1;31mTypeError\u001b[0m: can only concatenate str (not \"int\") to str"
     ]
    }
   ],
   "source": [
    "add('1'+2)"
   ]
  },
  {
   "cell_type": "code",
   "execution_count": 9,
   "id": "ef00731a",
   "metadata": {},
   "outputs": [],
   "source": [
    "#  FOR AVOIDING , ABOVE TYPE ERRORS , WE USE THE TRY , EXCEPT AND FINAL BLOCKS"
   ]
  },
  {
   "cell_type": "code",
   "execution_count": 10,
   "id": "4e2a6f13",
   "metadata": {},
   "outputs": [],
   "source": [
    "try:\n",
    "    result=1+2\n",
    "except:\n",
    "    print('hey! something went wrong')"
   ]
  },
  {
   "cell_type": "code",
   "execution_count": 11,
   "id": "5ed15680",
   "metadata": {},
   "outputs": [
    {
     "data": {
      "text/plain": [
       "3"
      ]
     },
     "execution_count": 11,
     "metadata": {},
     "output_type": "execute_result"
    }
   ],
   "source": [
    "result"
   ]
  },
  {
   "cell_type": "code",
   "execution_count": 12,
   "id": "a9202535",
   "metadata": {},
   "outputs": [
    {
     "name": "stdout",
     "output_type": "stream",
     "text": [
      "hey! something went wrong\n"
     ]
    }
   ],
   "source": [
    "try:\n",
    "    result=1+'2'\n",
    "except:\n",
    "    print('hey! something went wrong')"
   ]
  },
  {
   "cell_type": "code",
   "execution_count": 14,
   "id": "153ddfe6",
   "metadata": {},
   "outputs": [
    {
     "name": "stdout",
     "output_type": "stream",
     "text": [
      "nothing wrong\n",
      "3\n"
     ]
    }
   ],
   "source": [
    "try:\n",
    "    result=1+2\n",
    "except:\n",
    "    print('hey! something went wrong')\n",
    "else:\n",
    "    print('nothing wrong')\n",
    "    print(result) "
   ]
  },
  {
   "cell_type": "code",
   "execution_count": 15,
   "id": "08096c6d",
   "metadata": {},
   "outputs": [
    {
     "name": "stdout",
     "output_type": "stream",
     "text": [
      "hey! something went wrong\n"
     ]
    }
   ],
   "source": [
    "try:\n",
    "    result=1+'2'\n",
    "except:\n",
    "    print('hey! something went wrong')\n",
    "else:\n",
    "    print('nothing wrong')\n",
    "    print(result) "
   ]
  },
  {
   "cell_type": "code",
   "execution_count": 16,
   "id": "309b965e",
   "metadata": {},
   "outputs": [
    {
     "name": "stdout",
     "output_type": "stream",
     "text": [
      "you have an os error\n",
      "I always run\n"
     ]
    }
   ],
   "source": [
    "# example - doubt \n",
    "\n",
    "try:\n",
    "    f=open('testfile','r')\n",
    "    f.write('write a test line')\n",
    "except TypeError:\n",
    "    print('there was a type error')\n",
    "except OSError:\n",
    "    print('you have an os error')\n",
    "finally:\n",
    "    print('I always run')"
   ]
  },
  {
   "cell_type": "code",
   "execution_count": 18,
   "id": "8504318a",
   "metadata": {},
   "outputs": [
    {
     "name": "stdout",
     "output_type": "stream",
     "text": [
      "all other exceptions\n",
      "I always run\n"
     ]
    }
   ],
   "source": [
    "#doubt\n",
    "try:\n",
    "    f=open('testfile','r')\n",
    "    f.write('write a test line')\n",
    "except:\n",
    "    print('all other exceptions')\n",
    "finally:\n",
    "    print('I always run')"
   ]
  },
  {
   "cell_type": "code",
   "execution_count": 19,
   "id": "769a2893",
   "metadata": {},
   "outputs": [
    {
     "name": "stdout",
     "output_type": "stream",
     "text": [
      "I always run\n"
     ]
    }
   ],
   "source": [
    "#doubt\n",
    "try:\n",
    "    f=open('testfile','w')\n",
    "    f.write('write a test line')\n",
    "except:\n",
    "    print('all other exceptions')\n",
    "finally:\n",
    "    print('I always run')"
   ]
  },
  {
   "cell_type": "code",
   "execution_count": 30,
   "id": "3db4a844",
   "metadata": {},
   "outputs": [],
   "source": [
    "def ask_for_int():\n",
    "    try:\n",
    "        result=int(input('please provide a number: '))\n",
    "    except:\n",
    "        print('that is not a number')\n",
    "    finally:\n",
    "        print('result')"
   ]
  },
  {
   "cell_type": "code",
   "execution_count": 31,
   "id": "43e59bc3",
   "metadata": {},
   "outputs": [
    {
     "name": "stdout",
     "output_type": "stream",
     "text": [
      "please provide a number: 10\n",
      "result\n"
     ]
    }
   ],
   "source": [
    "ask_for_int()"
   ]
  },
  {
   "cell_type": "code",
   "execution_count": 32,
   "id": "565e608a",
   "metadata": {},
   "outputs": [
    {
     "name": "stdout",
     "output_type": "stream",
     "text": [
      "please provide a number: ten\n",
      "that is not a number\n",
      "result\n"
     ]
    }
   ],
   "source": [
    "ask_for_int()"
   ]
  },
  {
   "cell_type": "code",
   "execution_count": 33,
   "id": "3c9d4024",
   "metadata": {},
   "outputs": [],
   "source": [
    "def ask_for_int():\n",
    "    while True:\n",
    "        try:\n",
    "            result=int(input('please provide a number: '))\n",
    "        except:\n",
    "            print('it is not a number')\n",
    "            continue\n",
    "        else:\n",
    "            print('thank you')\n",
    "            break\n",
    "        finally:\n",
    "            print('I will always run at the end')"
   ]
  },
  {
   "cell_type": "code",
   "execution_count": 34,
   "id": "4cec2c5b",
   "metadata": {},
   "outputs": [
    {
     "name": "stdout",
     "output_type": "stream",
     "text": [
      "please provide a number: 10\n",
      "thank you\n",
      "I will always run at the end\n"
     ]
    }
   ],
   "source": [
    "ask_for_int()"
   ]
  },
  {
   "cell_type": "code",
   "execution_count": 35,
   "id": "768c56b3",
   "metadata": {},
   "outputs": [
    {
     "name": "stdout",
     "output_type": "stream",
     "text": [
      "please provide a number: ten\n",
      "it is not a number\n",
      "I will always run at the end\n",
      "please provide a number: s\n",
      "it is not a number\n",
      "I will always run at the end\n",
      "please provide a number: hi\n",
      "it is not a number\n",
      "I will always run at the end\n",
      "please provide a number: 20\n",
      "thank you\n",
      "I will always run at the end\n"
     ]
    }
   ],
   "source": [
    "ask_for_int()"
   ]
  },
  {
   "cell_type": "code",
   "execution_count": 36,
   "id": "a5995a78",
   "metadata": {},
   "outputs": [],
   "source": [
    "# running tests with unit testing - doubt "
   ]
  },
  {
   "cell_type": "code",
   "execution_count": null,
   "id": "7916cb6d",
   "metadata": {},
   "outputs": [],
   "source": []
  }
 ],
 "metadata": {
  "kernelspec": {
   "display_name": "Python 3 (ipykernel)",
   "language": "python",
   "name": "python3"
  },
  "language_info": {
   "codemirror_mode": {
    "name": "ipython",
    "version": 3
   },
   "file_extension": ".py",
   "mimetype": "text/x-python",
   "name": "python",
   "nbconvert_exporter": "python",
   "pygments_lexer": "ipython3",
   "version": "3.9.12"
  }
 },
 "nbformat": 4,
 "nbformat_minor": 5
}
